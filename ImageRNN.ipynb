{
  "nbformat": 4,
  "nbformat_minor": 0,
  "metadata": {
    "accelerator": "GPU",
    "colab": {
      "name": "ImageRNN.ipynb",
      "provenance": [],
      "collapsed_sections": []
    },
    "kernelspec": {
      "display_name": "Python 3",
      "language": "python",
      "name": "python3"
    },
    "language_info": {
      "codemirror_mode": {
        "name": "ipython",
        "version": 3
      },
      "file_extension": ".py",
      "mimetype": "text/x-python",
      "name": "python",
      "nbconvert_exporter": "python",
      "pygments_lexer": "ipython3",
      "version": "3.6.9"
    }
  },
  "cells": [
    {
      "cell_type": "markdown",
      "metadata": {
        "colab_type": "text",
        "id": "OqEABN2k2Nul"
      },
      "source": [
        "#Image classification with RNN"
      ]
    },
    {
      "cell_type": "markdown",
      "metadata": {
        "id": "ezTq0fBEeVON",
        "colab_type": "text"
      },
      "source": [
        "Let's try to build an image classifier using the MNIST dataset. The MNIST dataset consists of images that contain hand-written numbers from 1–10. Essentially, we want to build a classifier to predict the numbers displayed by a set of images."
      ]
    },
    {
      "cell_type": "markdown",
      "metadata": {
        "id": "LsphUs8pZzjg",
        "colab_type": "text"
      },
      "source": [
        "# Initialization: Downloads, Imports, and Parameters"
      ]
    },
    {
      "cell_type": "markdown",
      "metadata": {
        "id": "Aidi-PArZzjh",
        "colab_type": "text"
      },
      "source": [
        "This section of code is where you set the size of the batch (dataset), download and load the training and testing dataset, and import the image."
      ]
    },
    {
      "cell_type": "code",
      "metadata": {
        "colab_type": "code",
        "id": "Z5DOmE362Nuo",
        "colab": {}
      },
      "source": [
        "import torch\n",
        "import torch.nn as nn\n",
        "import torch.nn.functional as F\n",
        "import os\n",
        "import numpy as np"
      ],
      "execution_count": 0,
      "outputs": []
    },
    {
      "cell_type": "code",
      "metadata": {
        "colab_type": "code",
        "id": "Tmuw-0Wo2Nus",
        "colab": {}
      },
      "source": [
        "import torchvision\n",
        "import torchvision.transforms as transforms"
      ],
      "execution_count": 0,
      "outputs": []
    },
    {
      "cell_type": "code",
      "metadata": {
        "colab_type": "code",
        "id": "2YkBwUx_2Nuw",
        "outputId": "6a568533-4472-41c3-f362-bcd845ad0a3a",
        "colab": {
          "base_uri": "https://localhost:8080/",
          "height": 275
        }
      },
      "source": [
        "BATCH_SIZE = 64\n",
        "\n",
        "# list all transformations\n",
        "transform = transforms.Compose(\n",
        "    [transforms.ToTensor()])\n",
        "\n",
        "# download and load training dataset\n",
        "trainset = torchvision.datasets.MNIST(root='./data', train=True,\n",
        "                                        download=True, transform=transform)\n",
        "# Data Loader for easy mini-batch return in training\n",
        "trainloader = torch.utils.data.DataLoader(trainset, batch_size=BATCH_SIZE,\n",
        "                                          shuffle=True, num_workers=0)\n",
        "\n",
        "# download and load testing dataset\n",
        "testset = torchvision.datasets.MNIST(root='./data', train=False,\n",
        "                                       download=True, transform=transform)\n",
        "# Data Loader for easy mini-batch return in training\n",
        "testloader = torch.utils.data.DataLoader(testset, batch_size=BATCH_SIZE,\n",
        "                                         shuffle=False, num_workers=0)"
      ],
      "execution_count": 3,
      "outputs": [
        {
          "output_type": "stream",
          "text": [
            "\r0it [00:00, ?it/s]"
          ],
          "name": "stderr"
        },
        {
          "output_type": "stream",
          "text": [
            "Downloading http://yann.lecun.com/exdb/mnist/train-images-idx3-ubyte.gz to ./data/MNIST/raw/train-images-idx3-ubyte.gz\n"
          ],
          "name": "stdout"
        },
        {
          "output_type": "stream",
          "text": [
            "9920512it [00:01, 8106259.97it/s]                            \n"
          ],
          "name": "stderr"
        },
        {
          "output_type": "stream",
          "text": [
            "Extracting ./data/MNIST/raw/train-images-idx3-ubyte.gz to ./data/MNIST/raw\n"
          ],
          "name": "stdout"
        },
        {
          "output_type": "stream",
          "text": [
            "  0%|          | 0/28881 [00:00<?, ?it/s]"
          ],
          "name": "stderr"
        },
        {
          "output_type": "stream",
          "text": [
            "Downloading http://yann.lecun.com/exdb/mnist/train-labels-idx1-ubyte.gz to ./data/MNIST/raw/train-labels-idx1-ubyte.gz\n"
          ],
          "name": "stdout"
        },
        {
          "output_type": "stream",
          "text": [
            "32768it [00:00, 129543.17it/s]           \n",
            "  0%|          | 0/1648877 [00:00<?, ?it/s]"
          ],
          "name": "stderr"
        },
        {
          "output_type": "stream",
          "text": [
            "Extracting ./data/MNIST/raw/train-labels-idx1-ubyte.gz to ./data/MNIST/raw\n",
            "Downloading http://yann.lecun.com/exdb/mnist/t10k-images-idx3-ubyte.gz to ./data/MNIST/raw/t10k-images-idx3-ubyte.gz\n"
          ],
          "name": "stdout"
        },
        {
          "output_type": "stream",
          "text": [
            "1654784it [00:00, 2135243.00it/s]                            \n",
            "0it [00:00, ?it/s]"
          ],
          "name": "stderr"
        },
        {
          "output_type": "stream",
          "text": [
            "Extracting ./data/MNIST/raw/t10k-images-idx3-ubyte.gz to ./data/MNIST/raw\n",
            "Downloading http://yann.lecun.com/exdb/mnist/t10k-labels-idx1-ubyte.gz to ./data/MNIST/raw/t10k-labels-idx1-ubyte.gz\n"
          ],
          "name": "stdout"
        },
        {
          "output_type": "stream",
          "text": [
            "8192it [00:00, 50074.60it/s]            \n"
          ],
          "name": "stderr"
        },
        {
          "output_type": "stream",
          "text": [
            "Extracting ./data/MNIST/raw/t10k-labels-idx1-ubyte.gz to ./data/MNIST/raw\n",
            "Processing...\n",
            "Done!\n"
          ],
          "name": "stdout"
        }
      ]
    },
    {
      "cell_type": "markdown",
      "metadata": {
        "id": "AhvtP_svZzju",
        "colab_type": "text"
      },
      "source": [
        "We can see how many examples are in each split by checking their length."
      ]
    },
    {
      "cell_type": "code",
      "metadata": {
        "colab_type": "code",
        "id": "aboeEcR063Om",
        "outputId": "26e03eea-82dc-40b4-bdcb-f81550acb3e8",
        "colab": {
          "base_uri": "https://localhost:8080/",
          "height": 51
        }
      },
      "source": [
        "print(f'Number of training examples: {len(trainloader)}')\n",
        "print(f'Number of testing examples: {len(testloader)}')"
      ],
      "execution_count": 4,
      "outputs": [
        {
          "output_type": "stream",
          "text": [
            "Number of training examples: 938\n",
            "Number of testing examples: 157\n"
          ],
          "name": "stdout"
        }
      ]
    },
    {
      "cell_type": "markdown",
      "metadata": {
        "id": "zwZsxc-iZzjy",
        "colab_type": "text"
      },
      "source": [
        "We can also check a batch of examples."
      ]
    },
    {
      "cell_type": "code",
      "metadata": {
        "colab_type": "code",
        "id": "36hoUwcQ2Nuz",
        "outputId": "b789ba4f-a8d2-49ae-bac4-7044c182f480",
        "colab": {
          "base_uri": "https://localhost:8080/",
          "height": 269
        }
      },
      "source": [
        "import matplotlib.pyplot as plt\n",
        "import numpy as np\n",
        "\n",
        "# functions to show an image\n",
        "def imshow(img):\n",
        "    #img = img / 2 + 0.5     # unnormalize\n",
        "    npimg = img.numpy()\n",
        "    plt.imshow(np.transpose(npimg, (1, 2, 0)))\n",
        "\n",
        "# get some random training images\n",
        "dataiter = iter(trainloader)\n",
        "images, labels = dataiter.next()\n",
        "\n",
        "# show images\n",
        "imshow(torchvision.utils.make_grid(images))"
      ],
      "execution_count": 5,
      "outputs": [
        {
          "output_type": "display_data",
          "data": {
            "image/png": "[encoded data removed]",
            "text/plain": [
              "<Figure size 432x288 with 1 Axes>"
            ]
          },
          "metadata": {
            "tags": []
          }
        }
      ]
    },
    {
      "cell_type": "markdown",
      "metadata": {
        "id": "4VWnHXcSZzj6",
        "colab_type": "text"
      },
      "source": [
        "# Build the Model"
      ]
    },
    {
      "cell_type": "markdown",
      "metadata": {
        "id": "Fu2ZvHg6Zzj6",
        "colab_type": "text"
      },
      "source": [
        "The method containing the actual code of the neural network codes the neurons, inputs, outputs.  The output is the model probabilities, and sets initial weights for the nodes of the neural network."
      ]
    },
    {
      "cell_type": "code",
      "metadata": {
        "colab_type": "code",
        "id": "Mj12Ff_Z2Nu5",
        "colab": {}
      },
      "source": [
        "class ImageRNN(nn.Module):\n",
        "    def __init__(self, batch_size, n_steps, n_inputs, n_neurons, n_outputs):\n",
        "        super(ImageRNN, self).__init__()\n",
        "        \n",
        "        self.n_neurons = n_neurons\n",
        "        self.batch_size = batch_size\n",
        "        self.n_steps = n_steps\n",
        "        self.n_inputs = n_inputs\n",
        "        self.n_outputs = n_outputs\n",
        "        \n",
        "        self.basic_rnn = nn.RNN(self.n_inputs, self.n_neurons) \n",
        "        \n",
        "        self.FC = nn.Linear(self.n_neurons, self.n_outputs)\n",
        "        \n",
        "    def init_hidden(self,):\n",
        "        # (num_layers, batch_size, n_neurons)\n",
        "        return (torch.zeros(1, self.batch_size, self.n_neurons))\n",
        "        \n",
        "    def forward(self, X):\n",
        "        # transforms X to dimensions: n_steps X batch_size X n_inputs\n",
        "        X = X.permute(1, 0, 2) \n",
        "        \n",
        "        self.batch_size = X.size(1)\n",
        "        self.hidden = self.init_hidden()\n",
        "        \n",
        "        # lstm_out => n_steps, batch_size, n_neurons (hidden states for each time step)\n",
        "        # self.hidden => 1, batch_size, n_neurons (final state from each lstm_out)\n",
        "        lstm_out, self.hidden = self.basic_rnn(X, self.hidden)      \n",
        "        out = self.FC(self.hidden)\n",
        "        \n",
        "        return out.view(-1, self.n_outputs) # batch_size X n_output"
      ],
      "execution_count": 0,
      "outputs": []
    },
    {
      "cell_type": "markdown",
      "metadata": {
        "id": "EomRhwBRZzj-",
        "colab_type": "text"
      },
      "source": [
        "This step is just the code to test a sample of the data in the model before actually training it. It allows you to track your progress, and make sure that the model is functioning the way you want it to. That way, you will be able to easily correct and locate any errors that you may find."
      ]
    },
    {
      "cell_type": "code",
      "metadata": {
        "id": "KPsOqN49dCqZ",
        "colab_type": "code",
        "colab": {}
      },
      "source": [
        "# parameters \n",
        "N_STEPS = 28      # rnn time step / image height\n",
        "N_INPUTS = 28     # rnn input size / image width\n",
        "N_NEURONS = 150   # number of neurons in each RNN's cell\n",
        "N_OUTPUTS = 10    # classes\n",
        "N_EPHOCS = 10     "
      ],
      "execution_count": 0,
      "outputs": []
    },
    {
      "cell_type": "markdown",
      "metadata": {
        "id": "1O9q56qqermA",
        "colab_type": "text"
      },
      "source": [
        "The figure below shows figure of the RNN-based classification model we are building\n",
        "\n",
        "![alt txt](https://docs.google.com/drawings/d/e/2PACX-1vQWhELhewvq_bHgqwf4vwDb5B9DN9-jAxeTF9Y73zr-OsW6OXC-ngxAfojivXyZEhjzLXceTZU2Ncz3/pub?w=550&h=600)"
      ]
    },
    {
      "cell_type": "code",
      "metadata": {
        "colab_type": "code",
        "id": "DYWHe6qB2Nu8",
        "outputId": "1f522dd8-53f7-424c-b74d-b2d4cf656740",
        "colab": {
          "base_uri": "https://localhost:8080/",
          "height": 374
        }
      },
      "source": [
        "dataiter = iter(trainloader)\n",
        "images, labels = dataiter.next()\n",
        "model = ImageRNN(BATCH_SIZE, N_STEPS, N_INPUTS, N_NEURONS, N_OUTPUTS)\n",
        "logits = model(images.view(-1, 28,28))\n",
        "print(logits[0:10])"
      ],
      "execution_count": 8,
      "outputs": [
        {
          "output_type": "stream",
          "text": [
            "tensor([[ 4.5369e-03,  1.4249e-01,  2.8238e-02, -1.2456e-03, -1.6528e-01,\n",
            "          1.7478e-02,  1.4184e-02,  6.4064e-02,  1.3588e-01, -2.9654e-03],\n",
            "        [-1.2982e-02,  9.8701e-02, -4.0354e-02, -2.1512e-02, -8.6183e-02,\n",
            "          2.5070e-02, -1.2245e-02,  3.0660e-02,  1.1530e-01,  5.5148e-03],\n",
            "        [ 1.4250e-03,  7.2800e-02, -1.2018e-02, -1.2973e-03, -9.3598e-02,\n",
            "          4.1919e-02, -1.8920e-02,  2.6723e-02,  1.0609e-01,  1.4934e-02],\n",
            "        [-8.3291e-03,  7.0022e-02,  3.2883e-03, -2.8190e-02, -1.1231e-01,\n",
            "          2.9412e-02,  2.3118e-02,  7.0230e-02,  1.2062e-01,  1.8004e-02],\n",
            "        [-1.0650e-02,  7.9310e-02,  2.8389e-03,  7.0175e-03, -1.0133e-01,\n",
            "          2.6079e-02,  7.7570e-03,  5.6726e-02,  1.0017e-01,  1.5975e-02],\n",
            "        [ 2.0929e-05,  7.9687e-02, -2.5980e-02, -9.9445e-03, -8.4492e-02,\n",
            "          4.2299e-02, -1.5017e-02,  2.7694e-02,  1.1912e-01,  1.4543e-02],\n",
            "        [ 4.7300e-03,  6.6010e-02, -1.7726e-02,  3.6650e-03, -9.4733e-02,\n",
            "          4.5732e-02, -1.5930e-02,  3.1204e-02,  1.0104e-01,  1.9363e-02],\n",
            "        [-1.8647e-02,  1.0293e-01, -3.7809e-02, -1.6150e-02, -1.0126e-01,\n",
            "          3.1629e-02, -1.3750e-02,  2.8078e-02,  1.2254e-01, -2.1922e-03],\n",
            "        [-2.8255e-03,  8.1437e-02, -2.3584e-02, -4.1993e-03, -9.0480e-02,\n",
            "          4.5651e-02, -2.0210e-02,  2.6555e-02,  1.0693e-01,  1.5692e-02],\n",
            "        [-1.3408e-03,  7.0380e-02, -1.1101e-02,  3.3480e-03, -9.6041e-02,\n",
            "          4.3878e-02, -1.6304e-02,  2.6323e-02,  1.0647e-01,  1.5089e-02]],\n",
            "       grad_fn=<SliceBackward>)\n"
          ],
          "name": "stdout"
        }
      ]
    },
    {
      "cell_type": "markdown",
      "metadata": {
        "id": "IvdEoW1aZzkD",
        "colab_type": "text"
      },
      "source": [
        "# Training and Testing Model"
      ]
    },
    {
      "cell_type": "markdown",
      "metadata": {
        "id": "SmzmcgokZzkE",
        "colab_type": "text"
      },
      "source": [
        "The model updates with every iteration, adjusting weights and biases in order to minimize the loss function and improve the accuracy percentage. The algorithm has an optimization function (optim.Adam) that ensures the system improves the accuracy per epoch, as opposed to randomly adjusting weights and biases so the accuracy fluctuates."
      ]
    },
    {
      "cell_type": "code",
      "metadata": {
        "colab_type": "code",
        "id": "JNB6qZUa2NvE",
        "colab": {}
      },
      "source": [
        "import torch.optim as optim\n",
        "\n",
        "# Device\n",
        "device = torch.device(\"cuda:0\" if torch.cuda.is_available() else \"cpu\")\n",
        "\n",
        "# Model instance\n",
        "model = ImageRNN(BATCH_SIZE, N_STEPS, N_INPUTS, N_NEURONS, N_OUTPUTS)\n",
        "criterion = nn.CrossEntropyLoss()\n",
        "optimizer = optim.Adam(model.parameters(), lr=0.001)\n",
        "\n",
        "def get_accuracy(logit, target, batch_size):\n",
        "    ''' Obtain accuracy for training round '''\n",
        "    corrects = (torch.max(logit, 1)[1].view(target.size()).data == target.data).sum()\n",
        "    accuracy = 100.0 * corrects/batch_size\n",
        "    return accuracy.item()"
      ],
      "execution_count": 0,
      "outputs": []
    },
    {
      "cell_type": "markdown",
      "metadata": {
        "id": "weeLTCF0ZzkI",
        "colab_type": "text"
      },
      "source": [
        "This is the code that puts together the model and its testing and training. The output gives the loss function, and the percentage accuracy with every epoch. When it is ran, we see how the neural network gradually decreases the loss function, and has the accuracy approach 100% due to the optimization function and the adjustment of weights and biases."
      ]
    },
    {
      "cell_type": "code",
      "metadata": {
        "colab_type": "code",
        "id": "sI4ejpT42NvH",
        "outputId": "104b25be-8924-420e-c29a-971920ce6c29",
        "colab": {
          "base_uri": "https://localhost:8080/",
          "height": 187
        }
      },
      "source": [
        "n = 0\n",
        "lst_loss = []\n",
        "lst_acc = []\n",
        "# loop over the dataset multiple times\n",
        "for epoch in range(N_EPHOCS):\n",
        "    train_running_loss = 0.0\n",
        "    train_acc = 0.0\n",
        "    model.train()\n",
        "    \n",
        "    # TRAINING ROUND\n",
        "    for i, data in enumerate(trainloader):\n",
        "        n += 1\n",
        "         # zero the parameter gradients\n",
        "        optimizer.zero_grad()\n",
        "        #print(i+1)\n",
        "        # reset hidden states\n",
        "        model.hidden = model.init_hidden() \n",
        "        \n",
        "        # get the inputs\n",
        "        inputs, labels = data\n",
        "        inputs = inputs.view(-1, 28,28) \n",
        "\n",
        "        # forward + backward + optimize\n",
        "        outputs = model(inputs)\n",
        "\n",
        "        loss = criterion(outputs, labels)\n",
        "        loss.backward()\n",
        "        optimizer.step()\n",
        "\n",
        "        train_running_loss += loss.detach().item()\n",
        "        train_acc += get_accuracy(outputs, labels, BATCH_SIZE)\n",
        "    \n",
        "    lst_loss.append(train_running_loss / i)\n",
        "    lst_acc.append(train_acc / i)\n",
        "    model.eval()\n",
        "    print('Epoch:  %d | Loss: %.4f | Train Accuracy: %.2f' \n",
        "          %(epoch, train_running_loss / i, train_acc / i))"
      ],
      "execution_count": 10,
      "outputs": [
        {
          "output_type": "stream",
          "text": [
            "Epoch:  0 | Loss: 0.7626 | Train Accuracy: 74.25\n",
            "Epoch:  1 | Loss: 0.3219 | Train Accuracy: 90.61\n",
            "Epoch:  2 | Loss: 0.2374 | Train Accuracy: 93.10\n",
            "Epoch:  3 | Loss: 0.2012 | Train Accuracy: 94.22\n",
            "Epoch:  4 | Loss: 0.1704 | Train Accuracy: 95.20\n",
            "Epoch:  5 | Loss: 0.1579 | Train Accuracy: 95.61\n",
            "Epoch:  6 | Loss: 0.1496 | Train Accuracy: 95.81\n",
            "Epoch:  7 | Loss: 0.1339 | Train Accuracy: 96.31\n",
            "Epoch:  8 | Loss: 0.1283 | Train Accuracy: 96.39\n",
            "Epoch:  9 | Loss: 0.1253 | Train Accuracy: 96.50\n"
          ],
          "name": "stdout"
        }
      ]
    },
    {
      "cell_type": "code",
      "metadata": {
        "colab_type": "code",
        "id": "BECOyEAt2NvN",
        "outputId": "162d64dd-4cc1-49b8-d59f-682906273f7c",
        "colab": {
          "base_uri": "https://localhost:8080/",
          "height": 404
        }
      },
      "source": [
        "import matplotlib.pyplot as plt\n",
        "import matplotlib.ticker as ticker\n",
        "\n",
        "plt.figure(figsize=(16, 6))\n",
        "\n",
        "plt.subplot(1, 2, 1)    \n",
        "plt.title(\"Training loss\")\n",
        "plt.xlabel(\"#epoch\")\n",
        "plt.ylabel(\"loss\")\n",
        "plt.plot(lst_loss, 'b')\n",
        "\n",
        "plt.subplot(1, 2, 2)\n",
        "plt.title(\"Val accuracy\")\n",
        "plt.xlabel(\"#epoch\")\n",
        "plt.ylabel(\"accuracy\")\n",
        "plt.plot(lst_acc, 'b')\n",
        "plt.show()"
      ],
      "execution_count": 11,
      "outputs": [
        {
          "output_type": "display_data",
          "data": {
            "image/png": "[encoded data removed]",
            "text/plain": [
              "<Figure size 1152x432 with 2 Axes>"
            ]
          },
          "metadata": {
            "tags": []
          }
        }
      ]
    },
    {
      "cell_type": "markdown",
      "metadata": {
        "id": "BZYApQi5ZzkQ",
        "colab_type": "text"
      },
      "source": [
        "The 'Test Accuracy' portion  gives a final accuracy percentage after 10 epochs. And there you have it: image classification with recurrent neural networks!"
      ]
    },
    {
      "cell_type": "code",
      "metadata": {
        "colab_type": "code",
        "id": "gp06avEz2NvU",
        "outputId": "c6b9982a-141c-4a35-c623-4a65361ae53e",
        "colab": {
          "base_uri": "https://localhost:8080/",
          "height": 34
        }
      },
      "source": [
        "lst_test_acc = []\n",
        "test_acc = 0.0\n",
        "for i, data in enumerate(testloader, 0):\n",
        "    inputs, labels = data\n",
        "    inputs = inputs.view(-1, 28, 28)\n",
        "\n",
        "    outputs = model(inputs)\n",
        "\n",
        "    test_acc += get_accuracy(outputs, labels, BATCH_SIZE)    \n",
        "print('Test Accuracy: %.2f'%(test_acc / i))"
      ],
      "execution_count": 12,
      "outputs": [
        {
          "output_type": "stream",
          "text": [
            "Test Accuracy: 97.39\n"
          ],
          "name": "stdout"
        }
      ]
    },
    {
      "cell_type": "markdown",
      "metadata": {
        "id": "T5uKE_V_ch64",
        "colab_type": "text"
      },
      "source": [
        "Notice that we are not using GPU in this tutorial since the models we are building are relatively simple."
      ]
    },
    {
      "cell_type": "markdown",
      "metadata": {
        "id": "dMA2zV0waQ47",
        "colab_type": "text"
      },
      "source": [
        "More materials: \n",
        "* https://stanford.edu/~shervine/teaching/cs-230/cheatsheet-recurrent-neural-networks\n",
        "* https://www.youtube.com/watch?v=6niqTuYFZLQ\n",
        "\n",
        "Examples:\n",
        "* https://www.dezyre.com/recipes/run-basic-rnn-model-using-pytorch\n",
        "* https://medium.com/dair-ai/building-rnns-is-fun-with-pytorch-and-google-colab-3903ea9a3a79\n",
        "* https://medium.com/@nathaliejeans7/how-i-classified-images-with-recurrent-neural-networks-28eb4b57fc79"
      ]
    }
  ]
}
