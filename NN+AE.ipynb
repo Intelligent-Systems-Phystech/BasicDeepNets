{
 "cells": [
  {
   "cell_type": "markdown",
   "metadata": {},
   "source": [
    "# Autoencoders [using PyTorch]"
   ]
  },
  {
   "cell_type": "code",
   "execution_count": 30,
   "metadata": {
    "_cell_guid": "79c7e3d0-c299-4dcb-8224-4455121ee9b0",
    "_uuid": "d629ff2d2480ee46fbb7e2d37f6b5fab8052498a"
   },
   "outputs": [],
   "source": [
    "# print(os.listdir(\"data/\"))"
   ]
  },
  {
   "cell_type": "code",
   "execution_count": 16,
   "metadata": {
    "_uuid": "967a53c6595bcd7d3d61584b69c278715afbf504"
   },
   "outputs": [],
   "source": [
    "#import required modules.\n",
    "\n",
    "import torch\n",
    "import torch.nn as nn\n",
    "import torch.nn.functional as F\n",
    "\n",
    "from torch.autograd import Variable\n",
    "\n",
    "import pandas as pd\n",
    "import numpy as np\n",
    "import os\n",
    "\n",
    "from sklearn.model_selection import train_test_split\n",
    "from torch.utils.data import TensorDataset\n",
    "import matplotlib.pyplot as plt"
   ]
  },
  {
   "cell_type": "code",
   "execution_count": 17,
   "metadata": {
    "_uuid": "da094aee0f9612e9297005def1ccaf3da871d86a"
   },
   "outputs": [],
   "source": [
    "def show_torch_image(torch_tensor):\n",
    "    plt.imshow(torch_tensor.numpy().reshape(28, 28), cmap='gray')\n",
    "    plt.show()"
   ]
  },
  {
   "cell_type": "markdown",
   "metadata": {},
   "source": [
    "# Data loading "
   ]
  },
  {
   "cell_type": "markdown",
   "metadata": {},
   "source": [
    "Dataset source: https://www.kaggle.com/zalando-research/fashionmnist"
   ]
  },
  {
   "cell_type": "code",
   "execution_count": 18,
   "metadata": {
    "_uuid": "b732b6d19c25a1a0552a77614b5a86a34a4a163b"
   },
   "outputs": [
    {
     "name": "stdout",
     "output_type": "stream",
     "text": [
      "(10000, 784) (10000,)\n"
     ]
    }
   ],
   "source": [
    "# full dataset has nrows=60K\n",
    "train = pd.read_csv(\"data/fashion-mnist_train.csv\", nrows=10000) \n",
    "\n",
    "\n",
    "#normalization and preprocessing\n",
    "X = train.iloc[:,1:].values / 255\n",
    "X = (X-0.5)/0.5\n",
    "\n",
    "Y = train.iloc[:,0].values\n",
    "\n",
    "print(X.shape,Y.shape)"
   ]
  },
  {
   "cell_type": "markdown",
   "metadata": {},
   "source": [
    "**splitting dataset on train, validation**"
   ]
  },
  {
   "cell_type": "code",
   "execution_count": 19,
   "metadata": {
    "_uuid": "2267f9736dd45e2bbe993a60efba11ca9eb4e0c7"
   },
   "outputs": [],
   "source": [
    "trn_x,val_x,trn_y,val_y = train_test_split(X,Y,test_size=0.20)"
   ]
  },
  {
   "cell_type": "markdown",
   "metadata": {},
   "source": [
    "**create torch tensor from numpy array**"
   ]
  },
  {
   "cell_type": "code",
   "execution_count": 20,
   "metadata": {
    "_uuid": "157bd76d6f031d43843cc533a10df7cff60ea852"
   },
   "outputs": [],
   "source": [
    "num_workers=0\n",
    "trn_x_torch = torch.from_numpy(trn_x).type(torch.FloatTensor)\n",
    "trn_y_torch = torch.from_numpy(trn_y)\n",
    "\n",
    "val_x_torch = torch.from_numpy(val_x).type(torch.FloatTensor)\n",
    "val_y_torch = torch.from_numpy(val_y)\n",
    "\n",
    "trn = TensorDataset(trn_x_torch,trn_y_torch)\n",
    "val = TensorDataset(val_x_torch,val_y_torch)\n",
    "\n",
    "trn_dataloader = torch.utils.data.DataLoader(trn,batch_size=100,shuffle=False, num_workers=num_workers)\n",
    "val_dataloader = torch.utils.data.DataLoader(val,batch_size=100,shuffle=False, num_workers=num_workers)"
   ]
  },
  {
   "cell_type": "code",
   "execution_count": 21,
   "metadata": {
    "_uuid": "0659e9474ffd51685287b5eb586f5fde9699b3ae"
   },
   "outputs": [
    {
     "data": {
      "image/png": "[encoded data removed]",
      "text/plain": [
       "<Figure size 432x288 with 1 Axes>"
      ]
     },
     "metadata": {},
     "output_type": "display_data"
    }
   ],
   "source": [
    "show_torch_image(trn_x_torch[1])"
   ]
  },
  {
   "cell_type": "markdown",
   "metadata": {},
   "source": [
    "# Modal creating "
   ]
  },
  {
   "cell_type": "code",
   "execution_count": 22,
   "metadata": {
    "_uuid": "e8e02729a5d6b6b7c637fa25a316784d65313375"
   },
   "outputs": [],
   "source": [
    "class AutoEncoder(nn.Module):\n",
    "    \n",
    "    def __init__(self):\n",
    "        super(AutoEncoder, self).__init__()\n",
    "        \n",
    "        #encoder\n",
    "        self.e1 = nn.Linear(784,28)\n",
    "        self.e2 = nn.Linear(28,250)\n",
    "        \n",
    "        #Latent View\n",
    "        self.lv = nn.Linear(250,10)\n",
    "        \n",
    "        #Decoder\n",
    "        self.d1 = nn.Linear(10,250)\n",
    "        self.d2 = nn.Linear(250,500)\n",
    "        \n",
    "        self.output_layer = nn.Linear(500,784)\n",
    "        \n",
    "    def forward(self,x):\n",
    "        x = F.relu(self.e1(x))\n",
    "        x = F.relu(self.e2(x))\n",
    "        \n",
    "        x = torch.sigmoid(self.lv(x))\n",
    "        \n",
    "        x = F.relu(self.d1(x))\n",
    "        x = F.relu(self.d2(x))\n",
    "        \n",
    "        x = self.output_layer(x)\n",
    "        return x"
   ]
  },
  {
   "cell_type": "code",
   "execution_count": 23,
   "metadata": {
    "_uuid": "b554e18660e2e1c308e5ee4e1d10eef08a7a5361"
   },
   "outputs": [
    {
     "name": "stdout",
     "output_type": "stream",
     "text": [
      "AutoEncoder(\n",
      "  (e1): Linear(in_features=784, out_features=28, bias=True)\n",
      "  (e2): Linear(in_features=28, out_features=250, bias=True)\n",
      "  (lv): Linear(in_features=250, out_features=10, bias=True)\n",
      "  (d1): Linear(in_features=10, out_features=250, bias=True)\n",
      "  (d2): Linear(in_features=250, out_features=500, bias=True)\n",
      "  (output_layer): Linear(in_features=500, out_features=784, bias=True)\n",
      ")\n"
     ]
    }
   ],
   "source": [
    "ae = AutoEncoder()\n",
    "print(ae)"
   ]
  },
  {
   "cell_type": "markdown",
   "metadata": {},
   "source": [
    "# Model fitting"
   ]
  },
  {
   "cell_type": "code",
   "execution_count": 24,
   "metadata": {
    "_uuid": "e7fa50b1fb713cfe81ea23709196aed7aa5b2d86"
   },
   "outputs": [],
   "source": [
    "#define our optimizer and loss function\n",
    "loss_func = nn.MSELoss()\n",
    "optimizer = torch.optim.Adam(ae.parameters(), lr=1e-3)\n",
    "\n"
   ]
  },
  {
   "cell_type": "code",
   "execution_count": 25,
   "metadata": {
    "_uuid": "aceddc5bf85f398528d9a7c7bcc63339b35342e7"
   },
   "outputs": [
    {
     "name": "stdout",
     "output_type": "stream",
     "text": [
      " Train Epoch: 5/5 [100/8000 (1%)]\tLoss: 0.112491"
     ]
    }
   ],
   "source": [
    "losses = []\n",
    "EPOCHS = 5\n",
    "for epoch in range(EPOCHS):\n",
    "    \n",
    "    for batch_idx, (data,target) in enumerate(trn_dataloader):\n",
    "        \n",
    "        data = torch.autograd.Variable(data)\n",
    "    \n",
    "        optimizer.zero_grad()\n",
    "        pred = ae(data)\n",
    "        loss = loss_func(pred, data)\n",
    "        losses.append(loss.cpu().data.item())\n",
    "        \n",
    "        loss.backward()\n",
    "        optimizer.step()\n",
    "        \n",
    "        \n",
    "        if batch_idx % 100 == 1:\n",
    "            print('\\r Train Epoch: {}/{} [{}/{} ({:.0f}%)]\\tLoss: {:.6f}'.format(\n",
    "                epoch+1,\n",
    "                EPOCHS,\n",
    "                batch_idx * len(data), \n",
    "                len(trn_dataloader.dataset),\n",
    "                100. * batch_idx / len(trn_dataloader), \n",
    "                loss.cpu().data.item()), \n",
    "                end='')\n",
    "\n",
    "        "
   ]
  },
  {
   "cell_type": "code",
   "execution_count": 26,
   "metadata": {
    "_uuid": "6d7f0566578b9c9ba086b7456c5ee1fca08af22b"
   },
   "outputs": [
    {
     "data": {
      "text/plain": [
       "2000"
      ]
     },
     "execution_count": 26,
     "metadata": {},
     "output_type": "execute_result"
    }
   ],
   "source": [
    "ae.eval()\n",
    "predictions = []\n",
    "\n",
    "for batch_idx, (data,target) in enumerate(val_dataloader):\n",
    "        data = torch.autograd.Variable(data)\n",
    "        pred = ae(data)\n",
    "        \n",
    "        for prediction in pred:\n",
    "            predictions.append(prediction)\n",
    "            \n",
    "len(predictions)   "
   ]
  },
  {
   "cell_type": "markdown",
   "metadata": {},
   "source": [
    "# Error analysis "
   ]
  },
  {
   "cell_type": "code",
   "execution_count": 27,
   "metadata": {
    "_uuid": "96f44ec49ed23faa1e34cbfdfd72bb9e1c1afe7a"
   },
   "outputs": [
    {
     "data": {
      "image/png": "[encoded data removed]",
      "text/plain": [
       "<Figure size 432x288 with 1 Axes>"
      ]
     },
     "metadata": {},
     "output_type": "display_data"
    }
   ],
   "source": [
    "show_torch_image(val_x_torch[1])"
   ]
  },
  {
   "cell_type": "code",
   "execution_count": 28,
   "metadata": {
    "_uuid": "5c723e8d1d9ccbe2693f862ac7b94b16b1c7ab83"
   },
   "outputs": [
    {
     "data": {
      "image/png": "[encoded data removed]",
      "text/plain": [
       "<Figure size 432x288 with 1 Axes>"
      ]
     },
     "metadata": {},
     "output_type": "display_data"
    }
   ],
   "source": [
    "show_torch_image(predictions[1].detach())"
   ]
  },
  {
   "cell_type": "markdown",
   "metadata": {
    "_uuid": "9ef591347d96974556203a89c0bb2ddc4f68c5e6"
   },
   "source": [
    "# List of links to more detailed sources, tutorials, and alternative solutions\n",
    "\n",
    "* https://github.com/dragen1860/Deep-Learning-with-PyTorch-Tutorials\n",
    "* https://www.deeplearningwizard.com/deep_learning/practical_pytorch/pytorch_fc_overcomplete_ae/\n",
    "* https://www.kaggle.com/jagadeeshkotra/autoencoders-with-pytorch\n",
    "* https://github.com/alipsgh/Quick-Tutorial-on-PyTorch/blob/master/ae.py"
   ]
  },
  {
   "cell_type": "markdown",
   "metadata": {},
   "source": []
  }
 ],
 "metadata": {
  "kernelspec": {
   "display_name": "Python 3",
   "language": "python",
   "name": "python3"
  },
  "language_info": {
   "codemirror_mode": {
    "name": "ipython",
    "version": 3
   },
   "file_extension": ".py",
   "mimetype": "text/x-python",
   "name": "python",
   "nbconvert_exporter": "python",
   "pygments_lexer": "ipython3",
   "version": "3.6.5"
  }
 },
 "nbformat": 4,
 "nbformat_minor": 1
}
