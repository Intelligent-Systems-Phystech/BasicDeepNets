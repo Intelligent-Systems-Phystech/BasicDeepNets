{
 "cells": [
  {
   "cell_type": "markdown",
   "metadata": {},
   "source": [
    "# NEURAL NETWORKS [using PyTorch]"
   ]
  },
  {
   "cell_type": "markdown",
   "metadata": {},
   "source": [
    "**Description**.\n",
    "\n",
    "Neural networks are a set of algorithms, modeled loosely after the human brain, that are designed to recognize patterns. The networks are built from individual parts approximating neurons, typically called units or simply “neurons.” Each unit has some number of weighted inputs. These weighted inputs are summed together (a linear combination) then passed through an activation function to get the unit’s output.\n",
    "\n",
    "**Types of Nodes in a Neural Network:**\n",
    "* Input Units — Provides information from the outside world to the network and are together referred to as the “Input Layer”. These nodes do not perform any computation, they just pass on the information to the hidden nodes.\n",
    "* Hidden Units — These nodes do not have any direct connection with the outside world. They perform computations and transfer information from Input nodes to Output nodes. A collection of hidden nodes forms a “Hidden Layer”. While a feed-forward network will only have a single input layer and a single output layer, it can have zero or multiple Hidden Layers.\n",
    "* Output Units — The Output nodes are collectively referred to as the “Output Layer” and are responsible for computations and transferring information from the network to the outside world.\n",
    "\n",
    "![nn](img/1_HWhBextdDSkxYvz0kEMTVg.png)"
   ]
  },
  {
   "cell_type": "code",
   "execution_count": 129,
   "metadata": {},
   "outputs": [],
   "source": [
    "import pandas as pd\n",
    "import numpy as np \n",
    "\n",
    "import torch\n",
    "import matplotlib.pyplot as plt\n",
    "from sklearn.datasets import load_iris, load_boston"
   ]
  },
  {
   "cell_type": "markdown",
   "metadata": {},
   "source": [
    "A fully-connected ReLU network with one hidden layer, trained to predict y from x\n",
    "by minimizing squared Euclidean distance.\n",
    "This implementation uses the nn package from PyTorch to build the network.\n",
    "PyTorch autograd makes it easy to define computational graphs and take gradients,\n",
    "but raw autograd can be a bit too low-level for defining complex neural networks;\n",
    "this is where the nn package can help. The nn package defines a set of Modules,\n",
    "which you can think of as a neural network layer that has produces output from\n",
    "input and may have some trainable weights or other state."
   ]
  },
  {
   "cell_type": "code",
   "execution_count": 121,
   "metadata": {},
   "outputs": [],
   "source": [
    "device = torch.device('cpu')\n",
    "# device = torch.device('cuda') # Uncomment this to run on GPU\n",
    "\n",
    "# N is batch size; D_in is input dimension;\n",
    "# H is hidden dimension; D_out is output dimension.\n",
    "D_in, H, D_out =  4, 10, 1\n",
    "# N, D_in, H, D_out = 64, 1000, 100, 10 # for synthetic data\n"
   ]
  },
  {
   "cell_type": "markdown",
   "metadata": {},
   "source": [
    "#  Data loading"
   ]
  },
  {
   "cell_type": "code",
   "execution_count": 122,
   "metadata": {},
   "outputs": [],
   "source": [
    "# from sklearn (more https://scikit-learn.org/stable/datasets/index.html)\n",
    "df_iris = load_iris()\n",
    "x = torch.Tensor(df_iris.data).float()\n",
    "y = torch.Tensor(df_iris.target.reshape(-1,1)).float()\n",
    "\n",
    "# Create random Tensors to hold inputs and outputs\n",
    "# x = torch.randn(N, D_in, device=device)\n",
    "# y = torch.randn(N, D_out, device=device)\n"
   ]
  },
  {
   "cell_type": "code",
   "execution_count": 123,
   "metadata": {},
   "outputs": [
    {
     "name": "stdout",
     "output_type": "stream",
     "text": [
      "torch.Size([150, 4]) torch.Size([150, 1])\n"
     ]
    }
   ],
   "source": [
    "print(x.shape, y.shape)"
   ]
  },
  {
   "cell_type": "markdown",
   "metadata": {},
   "source": [
    "# Model creating"
   ]
  },
  {
   "cell_type": "markdown",
   "metadata": {},
   "source": [
    "Use the nn package to define our model as a sequence of layers. nn.Sequential is a Module which contains other Modules, and applies them in sequence to produce its output. Each Linear Module computes output from input using a linear function, and holds internal Tensors for its weight and bias.\n",
    "After constructing the model we use the .to() method to move it to the desired device."
   ]
  },
  {
   "cell_type": "code",
   "execution_count": 124,
   "metadata": {},
   "outputs": [],
   "source": [
    "\n",
    "model = torch.nn.Sequential(\n",
    "          torch.nn.Linear(D_in, H),\n",
    "          torch.nn.ReLU(),\n",
    "          torch.nn.Linear(H, D_out),\n",
    "#           torch.nn.LogSoftmax(dim = 1)\n",
    "        ).to(device)\n",
    "\n"
   ]
  },
  {
   "cell_type": "markdown",
   "metadata": {},
   "source": [
    "# Model fitting"
   ]
  },
  {
   "cell_type": "markdown",
   "metadata": {},
   "source": [
    "The nn package also contains definitions of popular loss functions; in this case we will use Mean Squared Error (MSE) as our loss function. Setting\n",
    "reduction='sum' means that we are computing the *sum* of squared errors rather\n",
    "than the mean; this is for consistency with the examples above where we\n",
    "manually compute the loss, but in practice it is more common to use mean\n",
    "squared error as a loss by setting reduction='elementwise_mean'."
   ]
  },
  {
   "cell_type": "code",
   "execution_count": 125,
   "metadata": {},
   "outputs": [],
   "source": [
    "list_loss = []\n",
    "loss_fn = torch.nn.MSELoss(reduction='sum')\n",
    "# loss_fn = torch.nn.NLLLoss() \n",
    "\n",
    "learning_rate = 1e-5\n",
    "for t in range(500):\n",
    "# Forward pass: compute predicted y by passing x to the model. Module objects\n",
    "# override the __call__ operator so you can call them like functions. When\n",
    "# doing so you pass a Tensor of input data to the Module and it produces\n",
    "# a Tensor of output data.\n",
    "    y_pred = model(x)\n",
    "\n",
    "# Compute and print loss. We pass Tensors containing the predicted and true\n",
    "# values of y, and the loss function returns a Tensor containing the loss.\n",
    "    loss = loss_fn(y_pred, y)\n",
    "    list_loss.append(loss)\n",
    "    \n",
    "#   print(t, loss.item())\n",
    "  \n",
    "# Zero the gradients before running the backward pass.\n",
    "    model.zero_grad()\n",
    "\n",
    "# Backward pass: compute gradient of the loss with respect to all the learnable\n",
    "# parameters of the model. Internally, the parameters of each Module are stored\n",
    "# in Tensors with requires_grad=True, so this call will compute gradients for\n",
    "# all learnable parameters in the model.\n",
    "    loss.backward()\n",
    "\n",
    "# Update the weights using gradient descent. Each parameter is a Tensor, so\n",
    "# we can access its data and gradients like we did before.\n",
    "    with torch.no_grad():\n",
    "        for param in model.parameters():\n",
    "            param.data -= learning_rate * param.grad\n"
   ]
  },
  {
   "cell_type": "markdown",
   "metadata": {},
   "source": [
    "# Error analysis "
   ]
  },
  {
   "cell_type": "code",
   "execution_count": 130,
   "metadata": {},
   "outputs": [
    {
     "data": {
      "text/plain": [
       "[<matplotlib.lines.Line2D at 0x7f55309ec198>]"
      ]
     },
     "execution_count": 130,
     "metadata": {},
     "output_type": "execute_result"
    },
    {
     "data": {
      "image/png": "[encoded data removed]",
      "text/plain": [
       "<Figure size 432x288 with 1 Axes>"
      ]
     },
     "metadata": {},
     "output_type": "display_data"
    }
   ],
   "source": [
    "plt.plot(list_loss)"
   ]
  },
  {
   "cell_type": "markdown",
   "metadata": {},
   "source": [
    "# List of links to more detailed sources, tutorials, and alternative solutions\n",
    "\n",
    "* https://pytorch.org/tutorials/beginner/blitz/neural_networks_tutorial.html\n",
    "* https://github.com/jcjohnson/pytorch-examples/blob/master/nn/two_layer_net_nn.py - this example\n",
    "* https://towardsdatascience.com/building-neural-network-using-pytorch-84f6e75f9a  - the simplest example"
   ]
  },
  {
   "cell_type": "code",
   "execution_count": null,
   "metadata": {},
   "outputs": [],
   "source": []
  }
 ],
 "metadata": {
  "kernelspec": {
   "display_name": "Python 3",
   "language": "python",
   "name": "python3"
  },
  "language_info": {
   "codemirror_mode": {
    "name": "ipython",
    "version": 3
   },
   "file_extension": ".py",
   "mimetype": "text/x-python",
   "name": "python",
   "nbconvert_exporter": "python",
   "pygments_lexer": "ipython3",
   "version": "3.6.5"
  }
 },
 "nbformat": 4,
 "nbformat_minor": 2
}
